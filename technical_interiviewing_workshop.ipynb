{
 "cells": [
  {
   "cell_type": "markdown",
   "metadata": {
    "slideshow": {
     "slide_type": "slide"
    }
   },
   "source": [
    "Introduction to Technical Interviewing By Brian Spiering\n",
    "------\n",
    "\n",
    "<center><img src=\"https://imgs.xkcd.com/comics/job_interview.png\" width=\"700\"/></center>"
   ]
  },
  {
   "cell_type": "markdown",
   "metadata": {
    "slideshow": {
     "slide_type": "slide"
    }
   },
   "source": [
    "Who am I? \n",
    "-----\n",
    "\n",
    "<center><img src=\"images/profile.JPG\" width=\"500\"/></center>\n",
    "\n",
    "Brian Spiering\n",
    "\n",
    "Computer Science (CS) faculty (new-ish)   \n",
    "Natural Language Processing (NLP) and Artificial Intelligence (AI) (mostly)"
   ]
  },
  {
   "cell_type": "markdown",
   "metadata": {
    "slideshow": {
     "slide_type": "slide"
    }
   },
   "source": [
    "Learning Objectives\n",
    "-------\n",
    "\n",
    "By the end of this session, you should be:\n",
    "\n",
    "- Familiar with the hiring process at tech companies\n",
    "- Able to explain what value you can bring\n",
    "- Able to systematically work through technical interview problem\n",
    "- Have a study plan to further prepare you"
   ]
  },
  {
   "cell_type": "markdown",
   "metadata": {
    "slideshow": {
     "slide_type": "slide"
    }
   },
   "source": [
    "Hiring Process\n",
    "-------\n",
    "\n",
    "1. Identify Companies (and contacts)"
   ]
  },
  {
   "cell_type": "markdown",
   "metadata": {
    "slideshow": {
     "slide_type": "fragment"
    }
   },
   "source": [
    "2. Apply"
   ]
  },
  {
   "cell_type": "markdown",
   "metadata": {
    "format": "row",
    "slideshow": {
     "slide_type": "fragment"
    }
   },
   "source": [
    "3. Phone screenings"
   ]
  },
  {
   "cell_type": "markdown",
   "metadata": {
    "slideshow": {
     "slide_type": "fragment"
    }
   },
   "source": [
    "4. Onsite interviews"
   ]
  },
  {
   "cell_type": "markdown",
   "metadata": {
    "slideshow": {
     "slide_type": "fragment"
    }
   },
   "source": [
    "5. Negotiating offer"
   ]
  },
  {
   "cell_type": "markdown",
   "metadata": {
    "slideshow": {
     "slide_type": "slide"
    }
   },
   "source": [
    "Behavioral Interview\n",
    "-----\n",
    "\n",
    "<center><img src=\"images/death.png\" width=\"700\"/></center>"
   ]
  },
  {
   "cell_type": "markdown",
   "metadata": {
    "slideshow": {
     "slide_type": "slide"
    }
   },
   "source": [
    "\"What have you been up to lately?\"\n",
    "====="
   ]
  },
  {
   "cell_type": "markdown",
   "metadata": {
    "slideshow": {
     "slide_type": "slide"
    }
   },
   "source": [
    "Behavioral Interview Protips\n",
    "------\n",
    "\n",
    "- Tell story \n",
    "    - Simpliest story: Past, Present, Future\n",
    "- Answers should be: 30s to 2min\n",
    "- \"If any of that sounds interesting or relevant, I'm happy to expanding on it…\""
   ]
  },
  {
   "cell_type": "markdown",
   "metadata": {
    "slideshow": {
     "slide_type": "slide"
    }
   },
   "source": [
    "What are employers looking for?\n",
    "------"
   ]
  },
  {
   "cell_type": "markdown",
   "metadata": {
    "slideshow": {
     "slide_type": "fragment"
    }
   },
   "source": [
    "<center><img src=\"https://images-na.ssl-images-amazon.com/images/I/51QihlTw4eL._SX298_BO1,204,203,200_.jpg\" width=\"400\"/></center>"
   ]
  },
  {
   "cell_type": "markdown",
   "metadata": {
    "slideshow": {
     "slide_type": "slide"
    }
   },
   "source": [
    "<center><img src=\"http://www.bizxpand.com/wp-content/uploads/2017/07/essential-sales-question-855x425.jpg\" width=\"700\"/></center>"
   ]
  },
  {
   "cell_type": "markdown",
   "metadata": {
    "slideshow": {
     "slide_type": "slide"
    }
   },
   "source": [
    "Technical Interviews\n",
    "------\n",
    "\n",
    "- What do you know?\n",
    "- What can you do?\n",
    "- How do you think?\n",
    "- Whiteboard or Shared Coding Platform"
   ]
  },
  {
   "cell_type": "markdown",
   "metadata": {
    "slideshow": {
     "slide_type": "slide"
    }
   },
   "source": [
    "Interview Problem\n",
    "-----\n",
    "\n",
    "A palindrome is a sequence which reads the same backward or forward.\n",
    "\n",
    "`poop` is a palindrome  \n",
    "`poo` is not a palindrome\n",
    "\n",
    "Write a function that determines whether a given sequence is a palindrome."
   ]
  },
  {
   "cell_type": "code",
   "execution_count": 7,
   "metadata": {
    "slideshow": {
     "slide_type": "slide"
    }
   },
   "outputs": [],
   "source": [
    "def is_palindrome(interable):\n",
    "    \"A palindrome is a sequence of characters which reads the same backward or forward. Check if sequence is a palindorme\"\n",
    "    return str(interable) == str(interable)[::-1]"
   ]
  },
  {
   "cell_type": "code",
   "execution_count": 8,
   "metadata": {
    "slideshow": {
     "slide_type": "slide"
    }
   },
   "outputs": [],
   "source": [
    "assert is_palindrome('poop')\n",
    "assert not is_palindrome('poo')\n",
    "\n",
    "assert is_palindrome('123321')\n",
    "assert not is_palindrome('42')"
   ]
  },
  {
   "cell_type": "markdown",
   "metadata": {
    "slideshow": {
     "slide_type": "slide"
    }
   },
   "source": [
    "<center><img src=\"http://www.azquotes.com/picture-quotes/quote-make-it-work-make-it-right-make-it-fast-kent-beck-136-16-22.jpg\" width=\"700\"/></center>"
   ]
  },
  {
   "cell_type": "markdown",
   "metadata": {
    "slideshow": {
     "slide_type": "slide"
    }
   },
   "source": [
    "Technical Interview Heuristic\n",
    "------\n",
    "\n",
    "1. Ask\n",
    "2. Suppose\n",
    "3. Plan\n",
    "4. Code\n",
    "5. Test\n",
    "6. Refactor"
   ]
  },
  {
   "cell_type": "markdown",
   "metadata": {
    "slideshow": {
     "slide_type": "slide"
    }
   },
   "source": [
    "Interview Problem: FizzBuzz\n",
    "------\n",
    "\n",
    "Write a function that prints the following:\n",
    "\n",
    "- For multiples of three, it should output “Fizz” instead of the number\n",
    "- For the multiples of five, output “Buzz”. \n",
    "- For numbers which are multiples of both three and five output “FizzBuzz”.\n",
    "- Otherwise print the orginal number"
   ]
  },
  {
   "cell_type": "markdown",
   "metadata": {
    "slideshow": {
     "slide_type": "slide"
    }
   },
   "source": [
    "Coding Platforms\n",
    "-----\n",
    "\n",
    "coderpad.io\n",
    "\n",
    "repl.it"
   ]
  },
  {
   "cell_type": "code",
   "execution_count": 11,
   "metadata": {
    "slideshow": {
     "slide_type": "slide"
    }
   },
   "outputs": [
    {
     "name": "stdout",
     "output_type": "stream",
     "text": [
      "1\n",
      "2\n",
      "Fizz\n",
      "4\n",
      "Buzz\n",
      "Fizz\n",
      "7\n",
      "8\n",
      "Fizz\n",
      "Buzz\n",
      "11\n",
      "Fizz\n",
      "13\n",
      "14\n",
      "FizzBuzz\n"
     ]
    }
   ],
   "source": [
    "def fizz_buzz(n):\n",
    "    message = ''\n",
    "\n",
    "    if n % 3 == 0: message += 'Fizz'\n",
    "    if n % 5 == 0: message += 'Buzz'\n",
    "    if not message:    message = n\n",
    "\n",
    "    return message\n",
    "\n",
    "n = 15\n",
    "for i in range(1, n+1):\n",
    "    print(fizz_buzz(i))"
   ]
  },
  {
   "cell_type": "markdown",
   "metadata": {
    "slideshow": {
     "slide_type": "slide"
    }
   },
   "source": [
    "Futher Study\n",
    "-----\n",
    "\n",
    "- My course: https://github.com/brianspiering/cs486-career-prep\n",
    "- [Cracking The Coding Interview](https://www.amazon.com/Cracking-Coding-Interview-Programming-Questions/dp/0984782850)\n",
    "- [Elements of Programming Interviews](https://www.amazon.com/Elements-Programming-Interviews-Python-Insiders/dp/1537713949): Python, Java, C++ \n",
    "- [What Color Is Your Parachute? 2018: A Practical Manual for Job-Hunters and Career-Changers](https://www.amazon.com/What-Color-Your-Parachute-2018/dp/039957963X)\n",
    "- [The Effective Engineer: How to Leverage Your Efforts In Software Engineering to Make a Disproportionate and Meaningful Impact](https://www.amazon.com/Effective-Engineer-Engineering-Disproportionate-Meaningful/dp/0996128107)"
   ]
  },
  {
   "cell_type": "markdown",
   "metadata": {
    "slideshow": {
     "slide_type": "slide"
    }
   },
   "source": [
    "Summary\n",
    "------\n",
    "\n",
    "- Know the process. Work your network."
   ]
  },
  {
   "cell_type": "markdown",
   "metadata": {
    "slideshow": {
     "slide_type": "fragment"
    }
   },
   "source": [
    "- Be prepared."
   ]
  },
  {
   "cell_type": "markdown",
   "metadata": {
    "slideshow": {
     "slide_type": "fragment"
    }
   },
   "source": [
    "- Tell stories."
   ]
  },
  {
   "cell_type": "markdown",
   "metadata": {
    "slideshow": {
     "slide_type": "fragment"
    }
   },
   "source": [
    "- Use The Plan: \n",
    "    1. Ask\n",
    "    2. Suppose\n",
    "    3. Plan\n",
    "    4. Code\n",
    "    5. Test\n",
    "    6. Refactor"
   ]
  },
  {
   "cell_type": "markdown",
   "metadata": {
    "slideshow": {
     "slide_type": "fragment"
    }
   },
   "source": [
    "- Practice!"
   ]
  },
  {
   "cell_type": "markdown",
   "metadata": {
    "slideshow": {
     "slide_type": "slide"
    }
   },
   "source": [
    "- Simulate the real thing in practice!!!"
   ]
  },
  {
   "cell_type": "markdown",
   "metadata": {
    "format": "column",
    "slideshow": {
     "slide_type": "slide"
    }
   },
   "source": [
    "Practice at JobFest:\n",
    "-------\n",
    "<center><img src=\"https://pbs.twimg.com/media/DWqC9peU0AAuHGp.jpg\" width=\"700\"/></center>\n",
    "\n",
    "Friday, March 2 11:30 a.m.-2:30 p.m. in McLaren.   \n",
    "80 companies including: Oakland A's, Sephora, GrantThornton, Lucile Packard Children’s Hospital, Yelp, Kiva, Eventbrite and more! "
   ]
  },
  {
   "cell_type": "markdown",
   "metadata": {
    "slideshow": {
     "slide_type": "slide"
    }
   },
   "source": [
    "<center><img src=\"https://media.giphy.com/media/UcJzJTW5HjuRW/giphy.gif\" width=\"700\"/></center>"
   ]
  },
  {
   "cell_type": "markdown",
   "metadata": {
    "slideshow": {
     "slide_type": "slide"
    }
   },
   "source": [
    "Slides\n",
    "-------\n",
    "\n",
    "https://github.com/brianspiering/tech-interview-workshop"
   ]
  },
  {
   "cell_type": "markdown",
   "metadata": {
    "slideshow": {
     "slide_type": "slide"
    }
   },
   "source": []
  },
  {
   "cell_type": "markdown",
   "metadata": {
    "slideshow": {
     "slide_type": "slide"
    }
   },
   "source": []
  },
  {
   "cell_type": "markdown",
   "metadata": {
    "slideshow": {
     "slide_type": "slide"
    }
   },
   "source": []
  },
  {
   "cell_type": "markdown",
   "metadata": {
    "slideshow": {
     "slide_type": "slide"
    }
   },
   "source": []
  },
  {
   "cell_type": "markdown",
   "metadata": {
    "slideshow": {
     "slide_type": "slide"
    }
   },
   "source": []
  },
  {
   "cell_type": "markdown",
   "metadata": {
    "slideshow": {
     "slide_type": "slide"
    }
   },
   "source": []
  },
  {
   "cell_type": "markdown",
   "metadata": {
    "slideshow": {
     "slide_type": "slide"
    }
   },
   "source": []
  },
  {
   "cell_type": "markdown",
   "metadata": {
    "slideshow": {
     "slide_type": "slide"
    }
   },
   "source": []
  },
  {
   "cell_type": "markdown",
   "metadata": {
    "slideshow": {
     "slide_type": "slide"
    }
   },
   "source": []
  },
  {
   "cell_type": "markdown",
   "metadata": {
    "slideshow": {
     "slide_type": "fragment"
    }
   },
   "source": []
  },
  {
   "cell_type": "markdown",
   "metadata": {
    "slideshow": {
     "slide_type": "slide"
    }
   },
   "source": []
  },
  {
   "cell_type": "markdown",
   "metadata": {
    "format": "column",
    "scrolled": true,
    "slideshow": {
     "slide_type": "slide"
    }
   },
   "source": []
  },
  {
   "cell_type": "markdown",
   "metadata": {
    "format": "column",
    "slideshow": {
     "slide_type": "slide"
    }
   },
   "source": []
  },
  {
   "cell_type": "markdown",
   "metadata": {
    "format": "column",
    "slideshow": {
     "slide_type": "slide"
    }
   },
   "source": []
  },
  {
   "cell_type": "markdown",
   "metadata": {
    "format": "column",
    "slideshow": {
     "slide_type": "slide"
    }
   },
   "source": []
  },
  {
   "cell_type": "markdown",
   "metadata": {
    "format": "column",
    "slideshow": {
     "slide_type": "slide"
    }
   },
   "source": []
  },
  {
   "cell_type": "markdown",
   "metadata": {
    "slideshow": {
     "slide_type": "slide"
    }
   },
   "source": [
    "<br>\n",
    "<br> \n",
    "<br>\n",
    "\n",
    "----"
   ]
  }
 ],
 "metadata": {
  "celltoolbar": "Slideshow",
  "kernelspec": {
   "display_name": "Python 3",
   "language": "python",
   "name": "python3"
  },
  "language_info": {
   "codemirror_mode": {
    "name": "ipython",
    "version": 3
   },
   "file_extension": ".py",
   "mimetype": "text/x-python",
   "name": "python",
   "nbconvert_exporter": "python",
   "pygments_lexer": "ipython3",
   "version": "3.6.4"
  }
 },
 "nbformat": 4,
 "nbformat_minor": 2
}
